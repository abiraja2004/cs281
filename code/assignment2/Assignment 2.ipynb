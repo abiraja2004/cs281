{
 "cells": [
  {
   "cell_type": "code",
   "execution_count": 37,
   "metadata": {
    "collapsed": false
   },
   "outputs": [],
   "source": [
    "from scipy import stats\n",
    "from scipy import optimize\n",
    "import numpy as np\n",
    "import matplotlib.pyplot as plt\n",
    "from numpy.random import multivariate_normal as Normal"
   ]
  },
  {
   "cell_type": "code",
   "execution_count": 2,
   "metadata": {
    "collapsed": false
   },
   "outputs": [
    {
     "data": {
      "text/plain": [
       "<matplotlib.text.Text at 0x7f99e837bb90>"
      ]
     },
     "execution_count": 2,
     "metadata": {},
     "output_type": "execute_result"
    }
   ],
   "source": [
    "fig, ax = plt.subplots(1, 1)\n",
    "plt.title(\"Probability Densitiy Function\")\n",
    "plt.xlabel(\"Distance from Origin\")\n",
    "plt.ylabel(\"Probability Density.\")"
   ]
  },
  {
   "cell_type": "code",
   "execution_count": 3,
   "metadata": {
    "collapsed": false
   },
   "outputs": [],
   "source": [
    "dfs = range(1,5) + range(10,70,20) + [100]\n",
    "for df in dfs:\n",
    "    x = np.linspace(stats.chi.ppf(0.01, df), stats.chi.ppf(0.99, df), 100)\n",
    "    ax.plot(x, stats.chi.pdf(x, df), alpha=0.6, label='D = {}'.format(df))\n",
    "    ax.legend(loc='best', frameon=True)"
   ]
  },
  {
   "cell_type": "code",
   "execution_count": 4,
   "metadata": {
    "collapsed": true
   },
   "outputs": [],
   "source": [
    "fig.savefig(\"hw2_chi_pdf\")"
   ]
  },
  {
   "cell_type": "code",
   "execution_count": 5,
   "metadata": {
    "collapsed": false
   },
   "outputs": [],
   "source": [
    "fig, ax = plt.subplots(1, 1)\n",
    "plt.title(\"Cumulative Distribution Function\")\n",
    "plt.xlabel(\"Upper Bound on Distance From Origin\")\n",
    "plt.ylabel(\"Probability.\")\n",
    "for df in [1,5,100]:\n",
    "    x = np.linspace(0, 12, 100)\n",
    "    ax.plot(x, stats.chi.cdf(x, df), alpha=0.6, label='D = {}'.format(df))\n",
    "    ax.legend(loc='best', frameon=True)"
   ]
  },
  {
   "cell_type": "code",
   "execution_count": 6,
   "metadata": {
    "collapsed": false
   },
   "outputs": [],
   "source": [
    "fig.savefig(\"hw2_chi_cdf\")"
   ]
  },
  {
   "cell_type": "code",
   "execution_count": 7,
   "metadata": {
    "collapsed": false
   },
   "outputs": [
    {
     "data": {
      "text/plain": [
       "<matplotlib.collections.PathCollection at 0x7f99e8105750>"
      ]
     },
     "execution_count": 7,
     "metadata": {},
     "output_type": "execute_result"
    }
   ],
   "source": [
    "# Problem 2\n",
    "fig, ax = plt.subplots(1, 1)\n",
    "plt.title(\"Data Points\")\n",
    "plt.xlabel(\"X values\")\n",
    "plt.ylabel(\"Y values\")\n",
    "x = [-1.87, -1.76, -1.67, -1.22, -0.07, 0.11, 0.67, 1.60, 2.22, 2.51]\n",
    "y = [0.06, 1.67, 0.54, -1.45, -0.18, -0.67, 0.92, 2.95, 5.13, 5.18]\n",
    "plt.scatter(x,y)"
   ]
  },
  {
   "cell_type": "code",
   "execution_count": 8,
   "metadata": {
    "collapsed": false
   },
   "outputs": [
    {
     "data": {
      "text/plain": [
       "<matplotlib.collections.PathCollection at 0x7f99e80a3ad0>"
      ]
     },
     "execution_count": 8,
     "metadata": {},
     "output_type": "execute_result"
    }
   ],
   "source": [
    "# We center the data and plot the points again.\n",
    "fig, ax = plt.subplots(1, 1)\n",
    "plt.title(\"Centered Data Points\")\n",
    "plt.xlabel(\"X values\")\n",
    "plt.ylabel(\"Y values\")\n",
    "xbar = x - np.mean(x)\n",
    "plt.scatter(xbar,y)"
   ]
  },
  {
   "cell_type": "code",
   "execution_count": 9,
   "metadata": {
    "collapsed": false
   },
   "outputs": [],
   "source": [
    "# Now we'll be plotting several random functions drawn from my prior.\n",
    "lb, ub = min(x), max(x)\n",
    "xaxis = np.linspace(lb-0.1, ub+0.1, 100)"
   ]
  },
  {
   "cell_type": "code",
   "execution_count": 10,
   "metadata": {
    "collapsed": false
   },
   "outputs": [],
   "source": [
    "def samplePriorWeights(w0, V0):\n",
    "    '''\n",
    "    w0 is the mean and V0 the covariance.\n",
    "    '''\n",
    "    return Normal(w0, V0)"
   ]
  },
  {
   "cell_type": "code",
   "execution_count": 11,
   "metadata": {
    "collapsed": true
   },
   "outputs": [],
   "source": [
    "plt.show()"
   ]
  },
  {
   "cell_type": "code",
   "execution_count": 12,
   "metadata": {
    "collapsed": false
   },
   "outputs": [],
   "source": [
    "def designMatrix(points):\n",
    "    return np.array([ [1, point, point**2, point**3, point**4] for point in points])\n"
   ]
  },
  {
   "cell_type": "code",
   "execution_count": 13,
   "metadata": {
    "collapsed": false
   },
   "outputs": [],
   "source": [
    "# Function to plot prior\n",
    "w0 = [-0.5, 0.1, 0.1, 0, 0 ]\n",
    "V0 = 0.1 * np.identity(5)\n",
    "sigma2 = 0.5\n",
    "def plotPrior(xs):\n",
    "    mat = designMatrix(xs)\n",
    "    w = samplePriorWeights(w0, V0)\n",
    "    #print w\n",
    "    epsilon = Normal(np.zeros(len(xs)), sigma2 * np.identity(len(xs)))\n",
    "    #print epsilon\n",
    "    return mat.dot(w) + epsilon"
   ]
  },
  {
   "cell_type": "code",
   "execution_count": 14,
   "metadata": {
    "collapsed": false
   },
   "outputs": [],
   "source": [
    "fig, ax = plt.subplots(1, 1)\n",
    "plt.title(\"Random Prior Samples\")\n",
    "plt.xlabel(\"X values\")\n",
    "plt.ylabel(\"Y values\")\n",
    "colors = plt.cm.rainbow(range(10))\n",
    "for color in colors:\n",
    "    plt.scatter(xaxis,plotPrior(xaxis), color=color)"
   ]
  },
  {
   "cell_type": "code",
   "execution_count": 15,
   "metadata": {
    "collapsed": true
   },
   "outputs": [],
   "source": [
    "xbar = x - np.mean(x)\n",
    "plt.scatter(xbar,y)\n",
    "plt.show()"
   ]
  },
  {
   "cell_type": "code",
   "execution_count": 16,
   "metadata": {
    "collapsed": false
   },
   "outputs": [],
   "source": [
    "def plotPosterior(train, ytrain, xs, s2, V0, w0):\n",
    "    X = designMatrix(train)\n",
    "    Xplot = designMatrix(xs)\n",
    "    Vnew = s2* np.linalg.inv(s2 * np.linalg.inv(V0) + X.T.dot(X))\n",
    "    # print Vnew.shape\n",
    "    # print X.shape\n",
    "    wnew = Vnew.dot(V0).dot(w0) + (1.0 / s2) * Vnew.dot(X.T).dot(ytrain)\n",
    "    w = Normal(wnew, Vnew)\n",
    "    return Xplot.dot(w)"
   ]
  },
  {
   "cell_type": "code",
   "execution_count": 17,
   "metadata": {
    "collapsed": false
   },
   "outputs": [],
   "source": [
    "fig, ax = plt.subplots(1, 1)\n",
    "plt.title(\"Posterior Samples\")\n",
    "plt.xlabel(\"X values\")\n",
    "plt.ylabel(\"Y values\")\n",
    "colors = plt.cm.rainbow(range(5))\n",
    "for color in colors:\n",
    "    plt.scatter(xaxis, plotPosterior(xbar, y, xaxis, sigma2, V0, w0), color=color)"
   ]
  },
  {
   "cell_type": "code",
   "execution_count": 18,
   "metadata": {
    "collapsed": false
   },
   "outputs": [],
   "source": [
    "xbar = x - np.mean(x)\n",
    "plt.scatter(xbar,y)\n",
    "plt.show()"
   ]
  },
  {
   "cell_type": "code",
   "execution_count": 19,
   "metadata": {
    "collapsed": true
   },
   "outputs": [],
   "source": [
    "def plotPredictive(train, ytrain, xstar, s2, V0, w0):\n",
    "    X = designMatrix(train)\n",
    "    xstarphi = designMatrix([xstar])[0]\n",
    "    Vnew = s2* np.linalg.inv(s2 * np.linalg.inv(V0) + X.T.dot(X))\n",
    "    wnew = Vnew.dot(V0).dot(w0) + (1.0 / s2) * Vnew.dot(X.T).dot(ytrain)\n",
    "    mean = xstarphi.dot(wnew)\n",
    "    cov = s2 + xstarphi.dot(Vnew).dot(xstarphi.T)\n",
    "    \n",
    "    # Calculate PDF.\n",
    "    low = stats.norm.ppf(0.025, loc = mean, scale=cov)\n",
    "    high = stats.norm.ppf(0.975, loc= mean, scale=cov)\n",
    "    return (low, mean, high)"
   ]
  },
  {
   "cell_type": "code",
   "execution_count": 20,
   "metadata": {
    "collapsed": false
   },
   "outputs": [
    {
     "data": {
      "text/plain": [
       "<matplotlib.collections.PathCollection at 0x7f99d26d24d0>"
      ]
     },
     "execution_count": 20,
     "metadata": {},
     "output_type": "execute_result"
    }
   ],
   "source": [
    "fig, ax = plt.subplots(1, 1)\n",
    "plt.title(\"Predictive Samples and 95% Confidence Interval\")\n",
    "plt.xlabel(\"X values\")\n",
    "plt.ylabel(\"Y values\")\n",
    "alls = [plotPredictive(xbar, y, xstar, sigma2, V0, w0) for xstar in xaxis]\n",
    "low, middle, high = zip(*alls)\n",
    "plt.scatter(xaxis, low, color='red')\n",
    "plt.scatter(xaxis, middle)\n",
    "plt.scatter(xaxis, high, color='red')"
   ]
  },
  {
   "cell_type": "code",
   "execution_count": 21,
   "metadata": {
    "collapsed": false
   },
   "outputs": [],
   "source": [
    "xbar = x - np.mean(x)\n",
    "plt.scatter(xbar,y, color='green')\n",
    "plt.show()"
   ]
  },
  {
   "cell_type": "code",
   "execution_count": 319,
   "metadata": {
    "collapsed": true
   },
   "outputs": [],
   "source": [
    "def marginalLikeliHood(ytest, X, w0, V0, s2):\n",
    "    mean = X.dot(w0)\n",
    "    cov = s2 * np.identity(len(X))  + X.dot(V0).dot(X.T)\n",
    "    return stats.multivariate_normal.pdf(ytest, mean=mean, cov=cov)"
   ]
  },
  {
   "cell_type": "code",
   "execution_count": 341,
   "metadata": {
    "collapsed": false
   },
   "outputs": [],
   "source": [
    "designMatrices = []\n",
    "designMatrices.append(np.array([ [1, np.sin(p), np.sin(2*p), np.sin(3*p), np.sin(4*p)] for p in xbar]))\n",
    "designMatrices.append(np.array([ [1, np.cos(p), np.cos(2*p), np.cos(3*p), np.cos(4*p)] for p in xbar]))\n",
    "designMatrices.append(np.array([ [1.0 / (p**2), 1.0/p, 1, p, p**2] for p in xbar]))\n",
    "designMatrices.append(np.array([ [1, p**2, p**4, p**6, p**8] for p in xbar]))\n",
    "designMatrices.append(np.array([ [1, p, p**2, p**3, p**4] for p in xbar]))\n",
    "designMatrices.append(np.array([ [0, 0, 0, 1, p**4] for p in xbar]))\n",
    "designMatrices.append(np.array([ [0, 0, p, p**2, p**4] for p in xbar]))\n",
    "designMatrices.append(np.array([ [0, 0, 0, p**2, p**4] for p in xbar]))"
   ]
  },
  {
   "cell_type": "code",
   "execution_count": 344,
   "metadata": {
    "collapsed": false
   },
   "outputs": [
    {
     "data": {
      "text/plain": [
       "<Container object of 8 artists>"
      ]
     },
     "execution_count": 344,
     "metadata": {},
     "output_type": "execute_result"
    }
   ],
   "source": [
    "# Plot the above\n",
    "fig, ax = plt.subplots()\n",
    "ps = np.array([marginalLikeliHood(y, m, w0, V0, sigma2) for m in designMatrices])\n",
    "ax.bar(np.arange(8), ps / sum(ps) , 1)"
   ]
  },
  {
   "cell_type": "code",
   "execution_count": 345,
   "metadata": {
    "collapsed": false
   },
   "outputs": [],
   "source": [
    "plt.title(\"Model Comparison\")\n",
    "plt.ylabel(\"Normalized Probability\")\n",
    "plt.xlabel(\"Model\")\n",
    "ax.set_xticks(np.arange(8)+1)\n",
    "ax.set_xticklabels( ('Sine', 'Cosine', 'Inverse', 'Poly 1', 'Poly 2', 'Poly 3', 'Poly 4','Poly 5') )\n",
    "plt.show()"
   ]
  },
  {
   "cell_type": "code",
   "execution_count": 371,
   "metadata": {
    "collapsed": false
   },
   "outputs": [],
   "source": [
    "# Read in the data\n",
    "train = np.genfromtxt('spam.train.dat', delimiter=\" \")\n",
    "test = np.genfromtxt('spam.test.dat', delimiter=\" \")\n",
    "Xtest = test[:, :-1]\n",
    "Ytest = test[:, -1]\n",
    "Xtrain = train[:, :-1]\n",
    "Ytrain = train[:, -1]"
   ]
  },
  {
   "cell_type": "code",
   "execution_count": 280,
   "metadata": {
    "collapsed": true
   },
   "outputs": [],
   "source": [
    "# Problem 3\n",
    "def negativeLogMap(X,y,w,s2):\n",
    "    '''\n",
    "    Using Bayes Rule, calculate a MAP estimate.\n",
    "    '''\n",
    "    denom = -np.logaddexp(0, -X.dot(w))\n",
    "    return -np.sum(-y*denom + (1-y) * (X.dot(w) + denom)) + w.dot(w) / (2 * s2)"
   ]
  },
  {
   "cell_type": "code",
   "execution_count": 281,
   "metadata": {
    "collapsed": false
   },
   "outputs": [],
   "source": [
    "def logMAPGradient(X,y,w,s2):\n",
    "    '''\n",
    "    Gradient of the NLL.\n",
    "    '''\n",
    "    return X.T.dot(1.0 / (1.0 + np.exp(-X.dot(w))) - y) +  w / s2"
   ]
  },
  {
   "cell_type": "code",
   "execution_count": 282,
   "metadata": {
    "collapsed": false
   },
   "outputs": [],
   "source": [
    "def minNegLogMAP(x):\n",
    "    return negativeLogMap(Xtrain, Ytrain, x, 1)\n",
    "res = optimize.minimize(minNegLogMAP, np.zeros(len(Xtrain[0])), method='CG')\n",
    "wPred = res.x"
   ]
  },
  {
   "cell_type": "code",
   "execution_count": 283,
   "metadata": {
    "collapsed": false
   },
   "outputs": [],
   "source": [
    "def negLogMAPGrad(w, sigma2):\n",
    "    return logMAPGradient(Xtrain, Ytrain, w, sigma2)"
   ]
  },
  {
   "cell_type": "code",
   "execution_count": 269,
   "metadata": {
    "collapsed": false
   },
   "outputs": [],
   "source": [
    "res2 = optimize.root(lambda x: negLogMAPGrad(x, 1), np.zeros(57))\n",
    "wGradPred = res2.x"
   ]
  },
  {
   "cell_type": "code",
   "execution_count": 238,
   "metadata": {
    "collapsed": false
   },
   "outputs": [
    {
     "data": {
      "text/plain": [
       "array([  1.84208015e-07,  -3.05912545e-07,   4.17827134e-07,\n",
       "         4.04982554e-07,   6.50426977e-07,   2.97057812e-07,\n",
       "         5.65705267e-07,   3.57786901e-07,   3.72966145e-07,\n",
       "         3.92136580e-07,   2.22415084e-07,  -1.13013472e-07,\n",
       "         1.85309744e-07,   1.42145275e-07,   2.66990381e-07,\n",
       "         9.95597124e-07,   5.24629346e-07,   4.40472991e-07,\n",
       "         1.60777366e-06,   4.28388021e-07,   1.87427724e-06,\n",
       "         4.65372868e-07,   5.99015172e-07,   4.52477723e-07,\n",
       "        -2.41873822e-06,  -1.26165129e-06,  -3.81241829e-06,\n",
       "        -5.13742422e-07,  -4.87328085e-07,  -4.66524227e-07,\n",
       "        -2.99094517e-07,  -2.12830769e-07,  -3.85757405e-07,\n",
       "        -2.11866738e-07,  -4.59441127e-07,  -3.20890963e-07,\n",
       "        -4.49439620e-07,  -5.10721426e-08,  -2.88639125e-07,\n",
       "        -1.54803028e-07,  -2.12594415e-07,  -6.76247808e-07,\n",
       "        -1.83258491e-07,  -4.04808828e-07,  -9.58185197e-07,\n",
       "        -7.43167965e-07,  -2.34532643e-08,  -1.33182350e-07,\n",
       "        -9.40865917e-08,  -1.93186535e-07,  -4.76576907e-08,\n",
       "         7.96518577e-07,   4.09108052e-07,   1.37507262e-07,\n",
       "         2.25107930e-05,   2.41517796e-04,   1.02066789e-03])"
      ]
     },
     "execution_count": 238,
     "metadata": {},
     "output_type": "execute_result"
    }
   ],
   "source": [
    "wGradPred"
   ]
  },
  {
   "cell_type": "code",
   "execution_count": 291,
   "metadata": {
    "collapsed": true
   },
   "outputs": [],
   "source": [
    "def verifyGradiant(x, epsilon = 0.0001):\n",
    "    \"\"\"\n",
    "    Uses finite differences to verify the gradiant of our log posterior.\n",
    "    \"\"\"\n",
    "    units = np.diag([epsilon for _ in x])\n",
    "    grad = negLogMAPGrad(x,1)\n",
    "    finiteDiff = [(minNegLogMAP(x + units[i]) - minNegLogMAP(x - units[i])) / (2*epsilon) for i in xrange(len(x))]\n",
    "    return all([abs(g - f) < 0.01 for g,f in zip(grad, finiteDiff)])"
   ]
  },
  {
   "cell_type": "code",
   "execution_count": 292,
   "metadata": {
    "collapsed": true
   },
   "outputs": [],
   "source": [
    "# Verify the result for ntrials\n",
    "def verifyGradiantM(ntrials):\n",
    "    xs = [np.random.rand(57) for _ in xrange(ntrials)]\n",
    "    return all(map(verifyGradiant, xs))"
   ]
  },
  {
   "cell_type": "code",
   "execution_count": 293,
   "metadata": {
    "collapsed": false
   },
   "outputs": [
    {
     "name": "stdout",
     "output_type": "stream",
     "text": [
      "False\n"
     ]
    }
   ],
   "source": [
    "print verifyGradiantM(1)"
   ]
  },
  {
   "cell_type": "code",
   "execution_count": 294,
   "metadata": {
    "collapsed": false
   },
   "outputs": [],
   "source": [
    "def RMSE(X,Y, w):\n",
    "    import math\n",
    "    return math.sqrt(np.sum((Y - (1.0 / (1 + np.exp(-X.dot(w)))))**2) / float(len(X)))\n",
    "\n",
    "def kCrossValidation(k, sigma2, data=Xtrain, ydata=Ytrain, testdata=Xtest, ytestdata=Ytest):\n",
    "    # Split original data into k section\n",
    "    splits = [len(Xtrain) *i / k for i in range(k)] + [len(Xtrain)]\n",
    "    print splits\n",
    "    \n",
    "    results = []\n",
    "    testResults = []\n",
    "    for i in range(k):\n",
    "        test = data[splits[i]:splits[i+1], :]\n",
    "        ytest = ydata[splits[i]:splits[i+1]]\n",
    "        train = data[range(splits[i]) + range(splits[i+1],len(data)), :]\n",
    "        ytrain = ydata[range(splits[i]) + range(splits[i+1], len(data))]\n",
    "        opt = optimize.root(lambda x : logMAPGradient(train,ytrain,x,sigma2), np.zeros(57))\n",
    "        wPredicted = opt.x\n",
    "        results.append(RMSE(test, ytest, wPredicted))\n",
    "        testResults.append(RMSE(testdata, ytestdata, wPredicted))\n",
    "    return np.mean(results), np.mean(testResults)"
   ]
  },
  {
   "cell_type": "code",
   "execution_count": 295,
   "metadata": {
    "collapsed": false
   },
   "outputs": [
    {
     "name": "stdout",
     "output_type": "stream",
     "text": [
      "[0, 300, 600, 900, 1200, 1500, 1800, 2100, 2400, 2700, 3000]\n",
      "[0, 300, 600, 900, 1200, 1500, 1800, 2100, 2400, 2700, 3000]\n",
      "[0, 300, 600, 900, 1200, 1500, 1800, 2100, 2400, 2700, 3000]\n",
      "[0, 300, 600, 900, 1200, 1500, 1800, 2100, 2400, 2700, 3000]\n",
      "[0, 300, 600, 900, 1200, 1500, 1800, 2100, 2400, 2700, 3000]\n",
      "[0, 300, 600, 900, 1200, 1500, 1800, 2100, 2400, 2700, 3000]\n",
      "[0, 300, 600, 900, 1200, 1500, 1800, 2100, 2400, 2700, 3000]\n",
      "[0, 300, 600, 900, 1200, 1500, 1800, 2100, 2400, 2700, 3000]\n",
      "[0, 300, 600, 900, 1200, 1500, 1800, 2100, 2400, 2700, 3000]\n",
      "[0, 300, 600, 900, 1200, 1500, 1800, 2100, 2400, 2700, 3000]\n",
      "[0, 300, 600, 900, 1200, 1500, 1800, 2100, 2400, 2700, 3000]\n",
      "[0, 300, 600, 900, 1200, 1500, 1800, 2100, 2400, 2700, 3000]\n",
      "[0, 300, 600, 900, 1200, 1500, 1800, 2100, 2400, 2700, 3000]\n",
      "[0, 300, 600, 900, 1200, 1500, 1800, 2100, 2400, 2700, 3000]\n",
      "[0, 300, 600, 900, 1200, 1500, 1800, 2100, 2400, 2700, 3000]\n",
      "[0, 300, 600, 900, 1200, 1500, 1800, 2100, 2400, 2700, 3000]\n",
      "[0, 300, 600, 900, 1200, 1500, 1800, 2100, 2400, 2700, 3000]\n"
     ]
    }
   ],
   "source": [
    "logsigmas = range(-8,9)\n",
    "results = [kCrossValidation(10, np.exp(s)) for s in logsigmas]"
   ]
  },
  {
   "cell_type": "code",
   "execution_count": 303,
   "metadata": {
    "collapsed": false
   },
   "outputs": [
    {
     "name": "stdout",
     "output_type": "stream",
     "text": [
      "[(0.42988064794329095, 0.42702964826920242), (0.39903489018491339, 0.39485359170268886), (0.36476697494759003, 0.3590933056575446), (0.33195738145393172, 0.32559816393190244), (0.3040903350606789, 0.29889028753046698), (0.28284370650712004, 0.28017394146316593), (0.26874064259272712, 0.26826900132836218), (0.26082770904443203, 0.2614316279525129), (0.25712354566033213, 0.25787185204932445), (0.25587891836652793, 0.25634039361499406), (0.25596794326005851, 0.2560312818878886), (0.25651922726898491, 0.25597677038841055), (0.25697832582888391, 0.25588688246819569), (0.25744531020011502, 0.25597611355393302), (0.25773243960063463, 0.25616613387000886), (0.25793847610773424, 0.2563603762371981), (0.25813492153915324, 0.25651051606402137)]\n"
     ]
    },
    {
     "data": {
      "text/plain": [
       "<matplotlib.text.Text at 0x7f99e9308650>"
      ]
     },
     "execution_count": 303,
     "metadata": {},
     "output_type": "execute_result"
    }
   ],
   "source": [
    "print results\n",
    "resultsCross, resultsTest = zip(*results)\n",
    "tplot = plt.scatter(logsigmas, resultsTest, color=\"red\")\n",
    "cplot = plt.scatter(logsigmas, resultsCross, color=\"green\")\n",
    "plt.legend((tplot, cplot),\n",
    "           ('Test RMSE', '10-fold Cross Validation RMSE'),\n",
    "           scatterpoints=1,\n",
    "           loc='lower left',\n",
    "           fontsize=8)\n",
    "plt.xlabel(\"log(sigma^2)\")\n",
    "plt.ylabel(\"Root Mean Square Error\")"
   ]
  },
  {
   "cell_type": "code",
   "execution_count": 304,
   "metadata": {
    "collapsed": true
   },
   "outputs": [],
   "source": [
    "plt.show()"
   ]
  },
  {
   "cell_type": "code",
   "execution_count": 298,
   "metadata": {
    "collapsed": false
   },
   "outputs": [],
   "source": [
    "# We now perform some standardization on the data.\n",
    "def normalize_features(X_train, X_test):\n",
    "    mean_X_train = np.mean(X_train, 0)\n",
    "    std_X_train = np.std(X_train, 0)\n",
    "    std_X_train[ std_X_train == 0 ] = 1\n",
    "    X_train_normalized = (X_train - mean_X_train) / std_X_train\n",
    "    X_test_normalized = (X_test - mean_X_train) / std_X_train\n",
    "    \n",
    "    return X_train_normalized, X_test_normalized"
   ]
  },
  {
   "cell_type": "code",
   "execution_count": 305,
   "metadata": {
    "collapsed": false
   },
   "outputs": [],
   "source": [
    "normXtrain, normYtrain = normalize_features(Xtrain.T, Ytrain)\n",
    "normXtest, normYtest = normalize_features(Xtest.T, Ytest)"
   ]
  },
  {
   "cell_type": "code",
   "execution_count": 312,
   "metadata": {
    "collapsed": false
   },
   "outputs": [
    {
     "name": "stdout",
     "output_type": "stream",
     "text": [
      "[0, 300, 600, 900, 1200, 1500, 1800, 2100, 2400, 2700, 3000]\n",
      "[0, 300, 600, 900, 1200, 1500, 1800, 2100, 2400, 2700, 3000]\n",
      "[0, 300, 600, 900, 1200, 1500, 1800, 2100, 2400, 2700, 3000]\n",
      "[0, 300, 600, 900, 1200, 1500, 1800, 2100, 2400, 2700, 3000]\n",
      "[0, 300, 600, 900, 1200, 1500, 1800, 2100, 2400, 2700, 3000]\n",
      "[0, 300, 600, 900, 1200, 1500, 1800, 2100, 2400, 2700, 3000]\n",
      "[0, 300, 600, 900, 1200, 1500, 1800, 2100, 2400, 2700, 3000]\n",
      "[0, 300, 600, 900, 1200, 1500, 1800, 2100, 2400, 2700, 3000]\n",
      "[0, 300, 600, 900, 1200, 1500, 1800, 2100, 2400, 2700, 3000]\n",
      "[0, 300, 600, 900, 1200, 1500, 1800, 2100, 2400, 2700, 3000]\n",
      "[0, 300, 600, 900, 1200, 1500, 1800, 2100, 2400, 2700, 3000]\n",
      "[0, 300, 600, 900, 1200, 1500, 1800, 2100, 2400, 2700, 3000]\n",
      "[0, 300, 600, 900, 1200, 1500, 1800, 2100, 2400, 2700, 3000]\n",
      "[0, 300, 600, 900, 1200, 1500, 1800, 2100, 2400, 2700, 3000]\n",
      "[0, 300, 600, 900, 1200, 1500, 1800, 2100, 2400, 2700, 3000]\n",
      "[0, 300, 600, 900, 1200, 1500, 1800, 2100, 2400, 2700, 3000]\n",
      "[0, 300, 600, 900, 1200, 1500, 1800, 2100, 2400, 2700, 3000]\n"
     ]
    }
   ],
   "source": [
    "logsigmas = range(-8,9)\n",
    "results2 = [kCrossValidation(10, np.exp(s), normXtrain.T, normYtrain, normXtest.T, normYtest) for s in logsigmas]"
   ]
  },
  {
   "cell_type": "code",
   "execution_count": 313,
   "metadata": {
    "collapsed": false
   },
   "outputs": [
    {
     "name": "stdout",
     "output_type": "stream",
     "text": [
      "[(0.18157300962484479, 0.182819300899488), (0.17592907408096675, 0.17773147536257672), (0.17561907741104593, 0.17736306672233398), (0.17561675802808993, 0.17735942576862632), (0.17561675799042892, 0.17735942569202703), (0.17561675799042892, 0.17735942569202703), (0.17561675799042892, 0.17735942569202703), (0.17561675799042892, 0.17735942569202703), (0.17589285423105258, 0.17752437166209128), (0.17840243915907006, 0.17846008058962637), (0.17561499739147518, 0.17736320554130716), (0.17563383360432921, 0.17737256909649007), (0.1756334970870323, 0.17737843773116532), (0.17563529363966413, 0.17739160202926002), (0.17561459748521646, 0.17737586048520049), (0.17566815767993754, 0.17742838467015348), (0.17568142963501993, 0.17744409985126636)]\n"
     ]
    },
    {
     "data": {
      "text/plain": [
       "<matplotlib.text.Text at 0x7f99e86d3dd0>"
      ]
     },
     "execution_count": 313,
     "metadata": {},
     "output_type": "execute_result"
    }
   ],
   "source": [
    "print results2\n",
    "resultsCross, resultsTest = zip(*results2)\n",
    "tplot = plt.scatter(logsigmas, resultsTest, color=\"red\")\n",
    "cplot = plt.scatter(logsigmas, resultsCross, color=\"green\")\n",
    "plt.legend((tplot, cplot),\n",
    "           ('Test RMSE for Normalized Data', '10-fold Cross Validation RMSE for Normalized Data'),\n",
    "           scatterpoints=1,\n",
    "           loc='lower left',\n",
    "           fontsize=8)\n",
    "plt.xlabel(\"log(sigma^2)\")\n",
    "plt.ylabel(\"Root Mean Square Error\")"
   ]
  },
  {
   "cell_type": "code",
   "execution_count": 314,
   "metadata": {
    "collapsed": true
   },
   "outputs": [],
   "source": [
    "plt.show()"
   ]
  },
  {
   "cell_type": "code",
   "execution_count": 317,
   "metadata": {
    "collapsed": false
   },
   "outputs": [],
   "source": [
    "def negLogMAPGrad(w, sigma2):\n",
    "    return logMAPGradient(normXtrain.T, normYtrain.T, w, sigma2)\n",
    "\n",
    "res3 = optimize.root(lambda x: negLogMAPGrad(x, np.exp(1)), np.zeros(57))\n",
    "wGradPred = res3.x"
   ]
  },
  {
   "cell_type": "code",
   "execution_count": 318,
   "metadata": {
    "collapsed": false
   },
   "outputs": [
    {
     "data": {
      "text/plain": [
       "array([  3.3239818 ,   3.7805773 ,   3.96723509,   3.24682572,\n",
       "         1.812309  ,   3.37176343,   2.69858099,   3.26723951,\n",
       "         3.21053188,   3.57863507,   2.93518846,   5.80321697,\n",
       "         3.20148729,   3.3682881 ,   3.0651955 ,   2.26639966,\n",
       "         3.18783952,   3.53772384,   0.33443072,   3.02108896,\n",
       "         0.12313008,   3.25544495,   2.88668557,   3.21139298,\n",
       "        -5.3504362 ,  -2.05567011,   0.32648644,   3.41915223,\n",
       "         3.73286432,   3.4745214 ,   3.45743104,   3.119373  ,\n",
       "         3.55698906,   3.12266529,   3.56520895,   3.4818673 ,\n",
       "         3.41311887,   2.34897263,   3.38181961,   3.17374505,\n",
       "         3.33515686,  -1.45265659,   3.2920016 ,   1.80916005,\n",
       "       -13.28127109,  -1.66904174,   3.29165059,   3.27698537,\n",
       "         3.15808291,   3.72040009,   3.29212317,   0.5787002 ,\n",
       "         2.74064018,   3.1665611 ,  -5.66067519,  -0.61890323,  -0.29541735])"
      ]
     },
     "execution_count": 318,
     "metadata": {},
     "output_type": "execute_result"
    }
   ],
   "source": [
    "wGradPred"
   ]
  },
  {
   "cell_type": "code",
   "execution_count": 357,
   "metadata": {
    "collapsed": false
   },
   "outputs": [
    {
     "name": "stdout",
     "output_type": "stream",
     "text": [
      "4.34 0.0834651727889\n",
      "14.28 1.5602771744\n",
      "4.54 0.240965132622\n",
      "42.73 1.80279276227\n",
      "9.09 0.451633559722\n",
      "3.44 0.0618669617667\n",
      "7.27 0.157046604167\n",
      "11.11 0.166051257233\n",
      "5.26 0.0783172257333\n",
      "18.18 0.489108013156\n",
      "2.06 0.0370296441667\n",
      "9.67 0.752641730833\n",
      "2.94 0.0705337975\n",
      "10.0 0.111589678889\n",
      "4.41 0.0695421006222\n",
      "20.0 0.712749705556\n",
      "7.14 0.188993064167\n",
      "7.69 0.281013398933\n",
      "18.75 3.13527580582\n",
      "6.32 0.169593815289\n",
      "11.11 1.40176137146\n",
      "17.1 0.940210426667\n",
      "4.76 0.124112466656\n",
      "12.5 0.181356745556\n",
      "20.83 2.78818950116\n",
      "16.66 0.862432956933\n",
      "33.33 11.5294699747\n",
      "9.09 0.3067355431\n",
      "14.28 0.390630881956\n",
      "5.88 0.207423745556\n",
      "12.5 0.1728945879\n",
      "4.76 0.0987427327889\n",
      "18.18 0.348104303456\n",
      "4.76 0.0990575386222\n",
      "20.0 0.319134094656\n",
      "7.69 0.1580419216\n",
      "6.89 0.173081322656\n",
      "8.33 0.0596935997222\n",
      "9.75 0.168894287289\n",
      "4.76 0.1088402599\n",
      "7.14 0.145509982222\n",
      "14.28 0.594633412933\n",
      "3.57 0.0529594244333\n",
      "20.0 0.505215981289\n",
      "21.42 1.09504480746\n",
      "16.7 0.718548041233\n",
      "2.17 0.00758992333333\n",
      "5.0 0.0518996837333\n",
      "4.385 0.0652787094093\n",
      "4.271 0.050525267296\n",
      "2.777 0.0104009737546\n",
      "32.478 0.715710916618\n",
      "6.003 0.0657003054132\n",
      "19.829 0.243112039733\n",
      "1102.5 1250.74145264\n",
      "2204.0 16440.1782982\n",
      "9090.0 270349.271173\n"
     ]
    }
   ],
   "source": [
    "for i in range(len(Xtrain[0])):\n",
    "    print Xtrain[:, i].max(), Xtrain[:, i].var()"
   ]
  },
  {
   "cell_type": "code",
   "execution_count": 372,
   "metadata": {
    "collapsed": false
   },
   "outputs": [],
   "source": [
    "def transform(X):\n",
    "    def binary(x):\n",
    "        return 0 if x == 0 else 1\n",
    "    newX = X\n",
    "    vecbinary = np.vectorize(binary)\n",
    "    newX[:, 48:52] = vecbinary(X[:, 48:52])\n",
    "    return newX"
   ]
  },
  {
   "cell_type": "code",
   "execution_count": 373,
   "metadata": {
    "collapsed": true
   },
   "outputs": [],
   "source": [
    "newnormXtrain, newnormYtrain = normalize_features(transform(Xtrain.T), Ytrain)\n",
    "newnormXtest, newnormYtest = normalize_features(transform(Xtest.T), Ytest)"
   ]
  },
  {
   "cell_type": "code",
   "execution_count": 375,
   "metadata": {
    "collapsed": false
   },
   "outputs": [
    {
     "name": "stdout",
     "output_type": "stream",
     "text": [
      "[0, 300, 600, 900, 1200, 1500, 1800, 2100, 2400, 2700, 3000]\n",
      "[0, 300, 600, 900, 1200, 1500, 1800, 2100, 2400, 2700, 3000]\n",
      "[0, 300, 600, 900, 1200, 1500, 1800, 2100, 2400, 2700, 3000]\n",
      "[0, 300, 600, 900, 1200, 1500, 1800, 2100, 2400, 2700, 3000]\n",
      "[0, 300, 600, 900, 1200, 1500, 1800, 2100, 2400, 2700, 3000]\n",
      "[0, 300, 600, 900, 1200, 1500, 1800, 2100, 2400, 2700, 3000]\n",
      "[0, 300, 600, 900, 1200, 1500, 1800, 2100, 2400, 2700, 3000]\n",
      "[0, 300, 600, 900, 1200, 1500, 1800, 2100, 2400, 2700, 3000]\n",
      "[0, 300, 600, 900, 1200, 1500, 1800, 2100, 2400, 2700, 3000]\n",
      "[0, 300, 600, 900, 1200, 1500, 1800, 2100, 2400, 2700, 3000]\n",
      "[0, 300, 600, 900, 1200, 1500, 1800, 2100, 2400, 2700, 3000]\n",
      "[0, 300, 600, 900, 1200, 1500, 1800, 2100, 2400, 2700, 3000]\n",
      "[0, 300, 600, 900, 1200, 1500, 1800, 2100, 2400, 2700, 3000]\n",
      "[0, 300, 600, 900, 1200, 1500, 1800, 2100, 2400, 2700, 3000]\n",
      "[0, 300, 600, 900, 1200, 1500, 1800, 2100, 2400, 2700, 3000]\n",
      "[0, 300, 600, 900, 1200, 1500, 1800, 2100, 2400, 2700, 3000]\n",
      "[0, 300, 600, 900, 1200, 1500, 1800, 2100, 2400, 2700, 3000]\n"
     ]
    }
   ],
   "source": [
    "logsigmas = range(-8,9)\n",
    "results3 = [kCrossValidation(10, np.exp(s), newnormXtrain.T, newnormYtrain, newnormXtest.T, newnormYtest) for s in logsigmas]"
   ]
  },
  {
   "cell_type": "code",
   "execution_count": 376,
   "metadata": {
    "collapsed": false
   },
   "outputs": [
    {
     "name": "stdout",
     "output_type": "stream",
     "text": [
      "[(0.18651052232593085, 0.18483014094664468), (0.18098988295441615, 0.17930605224146728), (0.18067603673932392, 0.17893114394623441), (0.18067353693764504, 0.17892752415429475), (0.18067353689641594, 0.17892752407853307), (0.18067353689641594, 0.17892752407853307), (0.18067353689641594, 0.17892752407853307), (0.18067353689641594, 0.17892752407853307), (0.1809251404017409, 0.17892888504753701), (0.18400286286866507, 0.18015614165276689), (0.18067208981993044, 0.17893148181124116), (0.18069460121907113, 0.17895124298453952), (0.18069133989996297, 0.17895241355016561), (0.18069115874743996, 0.1789511443015126), (0.18070665923902843, 0.17895189494095046), (0.18076397066463695, 0.17896000358540104), (0.18092194403195205, 0.17926259089030944)]\n"
     ]
    },
    {
     "data": {
      "text/plain": [
       "<matplotlib.text.Text at 0x7f99ca3ae350>"
      ]
     },
     "execution_count": 376,
     "metadata": {},
     "output_type": "execute_result"
    }
   ],
   "source": [
    "print results3\n",
    "resultsCross, resultsTest = zip(*results3)\n",
    "tplot = plt.scatter(logsigmas, resultsTest, color=\"red\")\n",
    "cplot = plt.scatter(logsigmas, resultsCross, color=\"green\")\n",
    "plt.legend((tplot, cplot),\n",
    "           ('Test RMSE for Normalized Data', '10-fold Cross Validation RMSE for Normalized Data'),\n",
    "           scatterpoints=1,\n",
    "           loc='lower left',\n",
    "           fontsize=8)\n",
    "plt.xlabel(\"log(sigma^2)\")\n",
    "plt.ylabel(\"Root Mean Square Error\")"
   ]
  },
  {
   "cell_type": "code",
   "execution_count": 377,
   "metadata": {
    "collapsed": true
   },
   "outputs": [],
   "source": [
    "plt.show()"
   ]
  },
  {
   "cell_type": "code",
   "execution_count": null,
   "metadata": {
    "collapsed": true
   },
   "outputs": [],
   "source": []
  }
 ],
 "metadata": {
  "kernelspec": {
   "display_name": "Python 2",
   "language": "python",
   "name": "python2"
  },
  "language_info": {
   "codemirror_mode": {
    "name": "ipython",
    "version": 2
   },
   "file_extension": ".py",
   "mimetype": "text/x-python",
   "name": "python",
   "nbconvert_exporter": "python",
   "pygments_lexer": "ipython2",
   "version": "2.7.9"
  }
 },
 "nbformat": 4,
 "nbformat_minor": 0
}
