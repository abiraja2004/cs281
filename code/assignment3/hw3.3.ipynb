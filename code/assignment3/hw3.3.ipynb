{
 "cells": [
  {
   "cell_type": "code",
   "execution_count": 2,
   "metadata": {
    "collapsed": true
   },
   "outputs": [],
   "source": [
    "# Imports\n",
    "import pandas as pd\n",
    "import autograd.numpy as np  # Thinly-wrapped numpy\n",
    "from autograd import grad \n",
    "from autograd import elementwise_grad\n",
    "from matplotlib import pyplot as plt\n",
    "from numpy.random import multivariate_normal as N\n",
    "from scipy.sparse import csc_matrix\n",
    "from scipy.sparse import lil_matrix"
   ]
  },
  {
   "cell_type": "code",
   "execution_count": 3,
   "metadata": {
    "collapsed": false
   },
   "outputs": [],
   "source": [
    "wFinal = np.array([  4.22455732e-02,   4.22473088e-02,   5.37630673e-06,\n",
    "         4.22455732e-02,   5.37596623e-06,   4.22473088e-02,\n",
    "         4.22455732e-02,   4.22473088e-02,   4.22473221e-02,\n",
    "         4.22473222e-02,   4.22455732e-02,  -2.54292998e-06,\n",
    "         4.22455696e-02,   4.22455732e-02,   5.37532906e-06,\n",
    "         5.37634719e-06,  -5.21942825e-06,  -5.21937071e-06,\n",
    "        -5.21942778e-06,   4.22455732e-02,   5.37634719e-06,\n",
    "         5.37634675e-06,   5.37634719e-06,   4.22455696e-02,\n",
    "         4.22473086e-02,   5.21942780e-06,   5.37533456e-06,\n",
    "         4.22455732e-02,   5.37533405e-06,  -2.78179336e-06,\n",
    "         4.22455732e-02,  -5.21942878e-06,   5.21229106e-06,\n",
    "        -5.21943212e-06,  -2.78179336e-06,   4.22473222e-02,\n",
    "         4.22455732e-02,   4.22455696e-02,   5.21229121e-06,\n",
    "        -2.78179361e-06,   4.22455732e-02,  -2.40925210e-06,\n",
    "        -5.21942778e-06,   5.37630675e-06,  -5.21942825e-06,\n",
    "         4.22455696e-02,   4.22455696e-02,  -2.78179294e-06,\n",
    "         4.22455696e-02,  -5.21942748e-06,   5.21229106e-06,\n",
    "         5.37533445e-06,  -2.78179294e-06,  -5.21942748e-06,\n",
    "         4.22455696e-02,   5.21229209e-06,  -5.21942878e-06,\n",
    "         5.37533405e-06,  -2.78397019e-06,  -5.21942778e-06,\n",
    "        -5.21942825e-06,   5.37533445e-06,  -5.21942748e-06,\n",
    "        -5.21942778e-06,   4.22455732e-02,   4.22473086e-02,\n",
    "        -5.21942748e-06,  -5.21942878e-06,  -5.21942778e-06,\n",
    "         5.21942778e-06,   5.37533456e-06,   5.21220933e-06,\n",
    "        -5.21943212e-06,  -2.78396471e-06,   5.21303725e-06,\n",
    "         5.21229121e-06,   5.37532905e-06,  -2.40932524e-06,\n",
    "         4.22455732e-02,  -5.21942778e-06,   4.22455696e-02,\n",
    "         5.21942778e-06,   5.37532905e-06,  -5.21943155e-06,\n",
    "         4.22455696e-02,   4.22455696e-02,  -5.21942778e-06,\n",
    "         5.21229106e-06,   5.21942778e-06,   5.21942778e-06,\n",
    "         5.21942778e-06,  -5.21942878e-06,   5.21942780e-06,\n",
    "        -5.21942748e-06,   5.21942778e-06,   5.21942780e-06,\n",
    "        -5.21942878e-06,   5.21229121e-06,  -5.21942878e-06,\n",
    "         4.22455696e-02,   5.21942778e-06,   5.21942778e-06,\n",
    "         5.21229209e-06,  -5.21942778e-06,   4.22455696e-02,\n",
    "         5.21942778e-06,   5.37532905e-06,  -5.21942748e-06,\n",
    "        -5.21942878e-06,   5.21229112e-06,   5.21942778e-06,\n",
    "        -5.21942778e-06,   5.21229106e-06,   4.22455696e-02,\n",
    "         5.21942778e-06,  -5.21942778e-06,   5.21942778e-06,\n",
    "        -5.21943210e-06,  -5.21942878e-06,   4.22455696e-02,\n",
    "        -5.21936489e-06,   5.21942778e-06,  -5.21942778e-06,\n",
    "         5.21229121e-06,  -5.21942778e-06,   5.21942780e-06,\n",
    "        -5.21942878e-06,   4.22455696e-02,  -5.21942778e-06,\n",
    "        -5.21942878e-06,   5.21942778e-06,   4.22455696e-02,\n",
    "         5.21942778e-06,   5.37532905e-06,   5.21942778e-06,\n",
    "         5.37533445e-06,  -5.21942778e-06,  -5.21942778e-06,\n",
    "         5.21942778e-06,   5.37532905e-06,   5.37532905e-06,\n",
    "         5.21942778e-06,   5.21942780e-06,   5.21942780e-06,\n",
    "         4.22455696e-02,   5.21942778e-06,   5.37532905e-06,\n",
    "        -5.21936392e-06,   5.21942778e-06,   5.21942778e-06,\n",
    "         4.22473088e-02,  -3.91020096e+00])"
   ]
  },
  {
   "cell_type": "code",
   "execution_count": 4,
   "metadata": {
    "collapsed": true
   },
   "outputs": [],
   "source": [
    "from autograd.scipy.stats import norm\n",
    "import sys\n",
    "def log_lik(weights, x_i, br1, br2):\n",
    "    # br1 and br2 is a vector of respecive rankings.\n",
    "    # We add the np.sum to vectorize the below into batches. Note that x_i can now be a matrix\n",
    "    # print weights.shape, x_i.shape, br1.shape, br2.shape\n",
    "    cdf = lambda y: norm.cdf( (y - np.dot(weights[:-1], np.transpose(x_i)))/weights[-1])\n",
    "    return np.log(cdf(br2) - cdf(br1))\n",
    "\n",
    "def getRating(joke):\n",
    "    b = [-sys.maxint/10, -4, -2, 2, 4, sys.maxint/10]\n",
    "    res = np.argmax([log_lik(wFinal, joke, b[i], b[i+1]) for i in range(len(b)-1)])\n",
    "    return res + 1"
   ]
  },
  {
   "cell_type": "code",
   "execution_count": 5,
   "metadata": {
    "collapsed": true
   },
   "outputs": [],
   "source": [
    "X = np.loadtxt('X.txt')"
   ]
  },
  {
   "cell_type": "code",
   "execution_count": 6,
   "metadata": {
    "collapsed": false
   },
   "outputs": [],
   "source": [
    "ratings = [ getRating(X[i]) for i in range(len(X))]"
   ]
  },
  {
   "cell_type": "code",
   "execution_count": 7,
   "metadata": {
    "collapsed": false
   },
   "outputs": [],
   "source": [
    "def RMSE(data, ratings):\n",
    "    # Calculates the RMSE\n",
    "    import math\n",
    "    acc = 0.0\n",
    "    for row in data:\n",
    "        acc += (ratings[row[0]] - row[1])**2\n",
    "    return math.sqrt(acc / len(data))"
   ]
  },
  {
   "cell_type": "code",
   "execution_count": null,
   "metadata": {
    "collapsed": true
   },
   "outputs": [],
   "source": [
    "# Read in the data\n",
    "# Each row is formatted as [User ID] [Joke ID] [Rating]\n",
    "ratingsFile =  \"ratings.dat\"\n",
    "allData = pd.read_csv(ratingsFile, sep=\" \", header=None)\n",
    "allData = allData.astype(int)\n",
    "\n",
    "def splitData(R, trainPercent=0.95):\n",
    "    # R is an NxM matrix where r_ij is the rating assigned by user i to jokes.\n",
    "    # Here, we split the data into matrices of size ratings x 2, where the two columns are JokeID and Rating\n",
    "    N,M = R.shape\n",
    "    totalRatings = np.count_nonzero(R)\n",
    "    testMat = np.zeros((totalRatings,2)) \n",
    "    trainMat = np.zeros((totalRatings, 2))\n",
    "    trainN, testN = 0,0\n",
    "    print N,M\n",
    "    for j in range(M):\n",
    "        tratings = float(np.count_nonzero(R[:,j]))\n",
    "        inTraining = 0\n",
    "        for i in range(N):\n",
    "            if R[i,j] > 0:\n",
    "                if inTraining <= (tratings * trainPercent):\n",
    "                    inTraining += 1\n",
    "                    trainMat[trainN, :] = np.array([j, R[i,j]])\n",
    "                    trainN += 1\n",
    "                else:\n",
    "                    testMat[testN, :] = np.array([j, R[i,j]])\n",
    "                    testN += 1\n",
    "    # Note that the results are zero indexed! We've mofidied the joke ids so now they are 0-indexed!!!!!\n",
    "    return trainMat, testMat\n",
    "\n",
    "# drop all 0s from the data\n",
    "def dropZeroRows(a):\n",
    "    mask = np.all(np.isnan(a) | np.equal(a, 0), axis=1)\n",
    "    return a[~mask]\n",
    "R = np.loadtxt('ratings_matrix.out')"
   ]
  },
  {
   "cell_type": "code",
   "execution_count": 11,
   "metadata": {
    "collapsed": false
   },
   "outputs": [
    {
     "name": "stdout",
     "output_type": "stream",
     "text": [
      "63978 150\n"
     ]
    }
   ],
   "source": [
    "train, test = splitData(R)\n",
    "\n",
    "trainE, testE = dropZeroRows(train), dropZeroRows(test)\n",
    "trainE, testE = trainE.astype(int), testE.astype(int)"
   ]
  },
  {
   "cell_type": "code",
   "execution_count": 14,
   "metadata": {
    "collapsed": false
   },
   "outputs": [
    {
     "data": {
      "text/plain": [
       "2.7110850591009688"
      ]
     },
     "execution_count": 14,
     "metadata": {},
     "output_type": "execute_result"
    }
   ],
   "source": [
    "RMSE(trainE, ratings)"
   ]
  },
  {
   "cell_type": "code",
   "execution_count": null,
   "metadata": {
    "collapsed": true
   },
   "outputs": [],
   "source": []
  }
 ],
 "metadata": {
  "kernelspec": {
   "display_name": "Python 2",
   "language": "python",
   "name": "python2"
  },
  "language_info": {
   "codemirror_mode": {
    "name": "ipython",
    "version": 2
   },
   "file_extension": ".py",
   "mimetype": "text/x-python",
   "name": "python",
   "nbconvert_exporter": "python",
   "pygments_lexer": "ipython2",
   "version": "2.7.10"
  }
 },
 "nbformat": 4,
 "nbformat_minor": 0
}
