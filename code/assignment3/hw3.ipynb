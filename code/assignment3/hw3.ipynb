{
 "cells": [
  {
   "cell_type": "code",
   "execution_count": 28,
   "metadata": {
    "collapsed": false
   },
   "outputs": [],
   "source": [
    "# Imports\n",
    "import pandas as pd\n",
    "import numpy as np\n",
    "from matplotlib import pyplot as plt\n",
    "from numpy.random import multivariate_normal as N\n",
    "from numpy.random import normal as N1"
   ]
  },
  {
   "cell_type": "code",
   "execution_count": 2,
   "metadata": {
    "collapsed": true
   },
   "outputs": [],
   "source": [
    "# Read in the data\n",
    "# Each row is formatted as [User ID] [Joke ID] [Rating]\n",
    "ratingsFile =  \"ratings.dat\"\n",
    "allData = pd.read_csv(ratingsFile, sep=\" \", header=None)\n",
    "allData = allData.astype(int)"
   ]
  },
  {
   "cell_type": "code",
   "execution_count": 3,
   "metadata": {
    "collapsed": false
   },
   "outputs": [
    {
     "data": {
      "text/plain": [
       "0    int64\n",
       "1    int64\n",
       "2    int64\n",
       "dtype: object"
      ]
     },
     "execution_count": 3,
     "metadata": {},
     "output_type": "execute_result"
    }
   ],
   "source": [
    "allData.dtypes"
   ]
  },
  {
   "cell_type": "code",
   "execution_count": 4,
   "metadata": {
    "collapsed": false
   },
   "outputs": [],
   "source": [
    "allData.columns = ['UserID', 'JokeID', 'Rating']"
   ]
  },
  {
   "cell_type": "code",
   "execution_count": 5,
   "metadata": {
    "collapsed": true
   },
   "outputs": [],
   "source": [
    "numTest = 100000\n",
    "test = allData[:numTest]\n",
    "train = allData[numTest:]\n",
    "\n",
    "numUsers = int(max(allData['UserID']))\n",
    "numJokes = int(max(allData['JokeID']))"
   ]
  },
  {
   "cell_type": "code",
   "execution_count": null,
   "metadata": {
    "collapsed": true
   },
   "outputs": [],
   "source": [
    "# an n x m matrix containing the ratings, R_{i,j} is the rating assigned\n",
    "# by user i to joke j\n",
    "R = np.zeros((numUsers, numJokes))\n",
    "for row in train.iterrows():\n",
    "    r = row[1]\n",
    "    R[r['UserID']-1, r['JokeID']-1] = r['Rating']"
   ]
  },
  {
   "cell_type": "code",
   "execution_count": null,
   "metadata": {
    "collapsed": false
   },
   "outputs": [],
   "source": [
    "RTest = np.zeros((numUsers, numJokes))\n",
    "for row in test.iterrows():\n",
    "    r = row[1]\n",
    "    RTest[r['UserID']-1, r['JokeID']-1] = r['Rating']"
   ]
  },
  {
   "cell_type": "code",
   "execution_count": 6,
   "metadata": {
    "collapsed": false
   },
   "outputs": [],
   "source": [
    "# write out the ratings matrix so we don't have to recalculat it\n",
    "R = np.loadtxt('ratings_matrix.out')\n",
    "RTest = np.loadtxt('ratings_matrix_test.out')"
   ]
  },
  {
   "cell_type": "code",
   "execution_count": null,
   "metadata": {
    "collapsed": false
   },
   "outputs": [],
   "source": [
    "# Model parameters and initial values\n",
    "def initialValues(K):\n",
    "    U0 = N(mean=np.zeros(K), cov=0.0001*np.identity(K),size=numUsers)\n",
    "    V0 = N(mean=np.zeros(K), cov=0.0001*np.identity(K),size=numJokes)\n",
    "    return U0, V0\n",
    "\n",
    "def nonZeroOp(x, y):\n",
    "    # Performs f on two values x,y if and only if x \\neq 0\n",
    "    return 0.0 if x == 0.0 else x-y\n",
    "\n",
    "vectorizedNonZeroSub = np.vectorize(nonZeroOp)"
   ]
  },
  {
   "cell_type": "code",
   "execution_count": 8,
   "metadata": {
    "collapsed": true
   },
   "outputs": [],
   "source": [
    "def gradientDescent(T,K,sigma2, learnRate=0.05):\n",
    "    # Implements gradient descent through 10 epochs. I'm not sure if this\n",
    "    # is stochastic or not.\n",
    "    U0, V0 = initialValues(K)\n",
    "    U, V = U0, V0\n",
    "    for epoch in range(T):\n",
    "        UOld = np.copy(U)\n",
    "        VOld = np.copy(V)\n",
    "        G = vectorizedNonZeroSub(R, UOld.dot(VOld.T))\n",
    "        for (i,row) in enumerate(UOld):\n",
    "            U[i,:] = UOld[i,:] + (learnRate / sigma2) * G[i,:].dot(VOld)\n",
    "        for (j,row) in enumerate(VOld):\n",
    "            V[j,:] = VOld[j,:] + (learnRate / sigma2) * G[:,j].dot(UOld)\n",
    "        # U = UOld + (learnRate / sigma2) * G.dot(VOld)\n",
    "        # V = VOld + (learnRate / sigma2) * G.T.dot(UOld)\n",
    "        print \"Epoch {} Finished\".format(epoch)\n",
    "        print U,V\n",
    "    return U,V\n",
    "\n",
    "def stochasticDescent(T,K, sigma2, learnRate=0.05):\n",
    "    # Going to try this gradient descent again\n",
    "    U, V = initialValues(K)\n",
    "    for epoch in range(T):\n",
    "        for row in np.array(train):\n",
    "            i = row[0] - 1\n",
    "            j = row[1] - 1\n",
    "            rating = int(row[2])\n",
    "            # irand = np.random.random_integers(0, numUsers - 1)\n",
    "            # jrand = np.random.random_integers(0, numJokes - 1)\n",
    "            UOld = np.copy(U)\n",
    "            VOld = np.copy(V)\n",
    "            U[i,:] = UOld[i,:] + learnRate / sigma2 * (rating - UOld[i,:].dot(VOld[j,:].T)) * VOld[j,:]\n",
    "            V[j,:] = VOld[j,:] + learnRate / sigma2 * (rating - UOld[i,:].dot(VOld[j,:].T)) * UOld[i,:]\n",
    "            # print U,V\n",
    "        print \"Epoch {} Finished!\".format(epoch)\n",
    "    return U,V"
   ]
  },
  {
   "cell_type": "code",
   "execution_count": 9,
   "metadata": {
    "collapsed": false
   },
   "outputs": [],
   "source": [
    "# U,V = stochasticDescent(10,2,1.0)"
   ]
  },
  {
   "cell_type": "code",
   "execution_count": 10,
   "metadata": {
    "collapsed": false
   },
   "outputs": [],
   "source": [
    "def RMSE(data, U, V):\n",
    "    # Calculates the RMSE\n",
    "    import math\n",
    "    acc = 0.0\n",
    "    for row in data.iterrows():\n",
    "        r = row[1]\n",
    "        i = r['UserID'] - 1\n",
    "        j = r['JokeID'] - 1\n",
    "        rating = int(r['Rating'])\n",
    "        prediction = U[i,:].dot(V[j,:].T)\n",
    "        acc += (prediction - rating)**2\n",
    "    return math.sqrt(acc / len(data))\n",
    "\n",
    "def RMSE2(ranks, U, V):\n",
    "    N = np.count_nonzero(ranks)\n",
    "    return np.sqrt(np.sum(vectorizedNonZeroSub(ranks, U.dot(V.T)) ** 2) / N)"
   ]
  },
  {
   "cell_type": "code",
   "execution_count": 11,
   "metadata": {
    "collapsed": false
   },
   "outputs": [],
   "source": [
    "# RMSE2(R, U, V)"
   ]
  },
  {
   "cell_type": "code",
   "execution_count": 14,
   "metadata": {
    "collapsed": false
   },
   "outputs": [],
   "source": [
    "# Evaluate for different values of K\n",
    "def parametrizeK(K):\n",
    "    train_res = []\n",
    "    test_res = []\n",
    "    for k in range(1,K+1):\n",
    "        U,V = stochasticDescent(10, k, 1.0)\n",
    "        train_rmse, test_rmse = RMSE2(R, U,V), RMSE2(RTest, U,V)\n",
    "        train_res.append(train_rmse)\n",
    "        test_res.append(test_rmse)\n",
    "        print \"Finished for K={}\".format(k)\n",
    "        print \"RMSE: {}, RMSETEST: {}\".format(train_rmse, test_rmse)\n",
    "    return train_res, test_res"
   ]
  },
  {
   "cell_type": "code",
   "execution_count": 15,
   "metadata": {
    "collapsed": false
   },
   "outputs": [
    {
     "name": "stdout",
     "output_type": "stream",
     "text": [
      "Epoch 0 Finished!\n",
      "Epoch 1 Finished!\n",
      "Epoch 2 Finished!\n",
      "Epoch 3 Finished!\n",
      "Epoch 4 Finished!\n",
      "Epoch 5 Finished!\n",
      "Epoch 6 Finished!\n",
      "Epoch 7 Finished!\n",
      "Epoch 8 Finished!\n",
      "Epoch 9 Finished!\n",
      "Finished for K=1\n",
      "RMSE: 1.09369672092, RMSETEST: 1.13372062941\n",
      "Epoch 0 Finished!\n",
      "Epoch 1 Finished!\n",
      "Epoch 2 Finished!\n",
      "Epoch 3 Finished!\n",
      "Epoch 4 Finished!\n",
      "Epoch 5 Finished!\n",
      "Epoch 6 Finished!\n",
      "Epoch 7 Finished!\n",
      "Epoch 8 Finished!\n",
      "Epoch 9 Finished!\n",
      "Finished for K=2\n",
      "RMSE: 1.06647749029, RMSETEST: 1.12749220839\n",
      "Epoch 0 Finished!\n",
      "Epoch 1 Finished!\n",
      "Epoch 2 Finished!\n",
      "Epoch 3 Finished!\n",
      "Epoch 4 Finished!\n",
      "Epoch 5 Finished!\n",
      "Epoch 6 Finished!\n",
      "Epoch 7 Finished!\n",
      "Epoch 8 Finished!\n",
      "Epoch 9 Finished!\n",
      "Finished for K=3\n",
      "RMSE: 1.06073598136, RMSETEST: 1.14074728584\n",
      "Epoch 0 Finished!\n",
      "Epoch 1 Finished!\n",
      "Epoch 2 Finished!\n",
      "Epoch 3 Finished!\n",
      "Epoch 4 Finished!\n",
      "Epoch 5 Finished!\n",
      "Epoch 6 Finished!\n",
      "Epoch 7 Finished!\n",
      "Epoch 8 Finished!\n",
      "Epoch 9 Finished!\n",
      "Finished for K=4\n",
      "RMSE: 1.06128292497, RMSETEST: 1.14412184569\n",
      "Epoch 0 Finished!\n",
      "Epoch 1 Finished!\n",
      "Epoch 2 Finished!\n",
      "Epoch 3 Finished!\n",
      "Epoch 4 Finished!\n",
      "Epoch 5 Finished!\n",
      "Epoch 6 Finished!\n",
      "Epoch 7 Finished!\n",
      "Epoch 8 Finished!\n",
      "Epoch 9 Finished!\n",
      "Finished for K=5\n",
      "RMSE: 1.05037645607, RMSETEST: 1.14123692142\n"
     ]
    }
   ],
   "source": [
    "# Now we produce a plot using the results from above for K = 1-10\n",
    "rmse_train, rmse_test = parametrizeK(5)\n",
    "x = range(1,6)"
   ]
  },
  {
   "cell_type": "code",
   "execution_count": 19,
   "metadata": {
    "collapsed": false
   },
   "outputs": [
    {
     "data": {
      "text/plain": [
       "<matplotlib.text.Text at 0x7f9b5356a050>"
      ]
     },
     "execution_count": 19,
     "metadata": {},
     "output_type": "execute_result"
    }
   ],
   "source": [
    "# Now we just plot the resuls\n",
    "plt.plot(x, rmse_train, 'bs', x, rmse_test, 'g^')\n",
    "plt.title(\"RMSE of Testing/Training Data for Multile Dimensions\")\n",
    "plt.ylabel(\"RMSE of Test/Train Data\")\n",
    "plt.xlabel(\"Number of Dimensions\")"
   ]
  },
  {
   "cell_type": "code",
   "execution_count": 20,
   "metadata": {
    "collapsed": true
   },
   "outputs": [],
   "source": [
    "plt.show()"
   ]
  },
  {
   "cell_type": "code",
   "execution_count": 86,
   "metadata": {
    "collapsed": false
   },
   "outputs": [],
   "source": [
    "def initialValues2(K):\n",
    "    U0 = N(mean=np.zeros(K), cov=0.0001*np.identity(K),size=numUsers)\n",
    "    V0 = N(mean=np.zeros(K), cov=0.0001*np.identity(K),size=numJokes)\n",
    "    A0 = N1(loc=0, scale=0.0001, size=numUsers)\n",
    "    B0 = N1(loc=0, scale=0.0001, size=numJokes)\n",
    "    g = N1(loc=0, scale=0.0001, size=1)\n",
    "    A0.shape = (numUsers,1)\n",
    "    B0.shape = (numJokes,1)\n",
    "    return U0, V0, A0, B0, g\n",
    "\n",
    "def stochasticDescent2(T,K, sigma2, learnRate=0.05):\n",
    "    # Going to try this gradient descent again\n",
    "    U, V, A, B, g = initialValues2(K)\n",
    "    for epoch in range(T):\n",
    "        for row in np.array(train):\n",
    "            i = row[0] - 1\n",
    "            j = row[1] - 1\n",
    "            rating = int(row[2])\n",
    "            # irand = np.random.random_integers(0, numUsers - 1)\n",
    "            # jrand = np.random.random_integers(0, numJokes - 1)\n",
    "            UOld = np.copy(U)\n",
    "            VOld = np.copy(V)\n",
    "            AOld = np.copy(A)\n",
    "            BOld = np.copy(B)\n",
    "            gOld = np.copy(g)\n",
    "            value = rating - UOld[i,:].dot(VOld[j,:].T) - AOld[i] - BOld[j] - g\n",
    "            U[i,:] = UOld[i,:] + learnRate / sigma2 * (value) * VOld[j,:]\n",
    "            V[j,:] = VOld[j,:] + learnRate / sigma2 * (value) * UOld[i,:]\n",
    "            A[i] = AOld[i] + learnRate / sigma2 * (value)\n",
    "            B[j] = BOld[j] + learnRate / sigma2 * (value)\n",
    "            g = gOld + learnRate / sigma2 * (value)\n",
    "            # print U,V\n",
    "        print \"Epoch {} Finished!\".format(epoch)\n",
    "    return (U, V, A, B, g)"
   ]
  },
  {
   "cell_type": "code",
   "execution_count": 87,
   "metadata": {
    "collapsed": false
   },
   "outputs": [
    {
     "name": "stdout",
     "output_type": "stream",
     "text": [
      "Epoch 0 Finished!\n",
      "Epoch 1 Finished!\n",
      "Epoch 2 Finished!\n",
      "Epoch 3 Finished!\n",
      "Epoch 4 Finished!\n",
      "Epoch 5 Finished!\n",
      "Epoch 6 Finished!\n",
      "Epoch 7 Finished!\n",
      "Epoch 8 Finished!\n",
      "Epoch 9 Finished!\n"
     ]
    }
   ],
   "source": [
    "res = stochasticDescent2(10,2,1.0)"
   ]
  },
  {
   "cell_type": "code",
   "execution_count": 83,
   "metadata": {
    "collapsed": false
   },
   "outputs": [],
   "source": [
    "def RMSE2(ranks, U, V, A, B, g):\n",
    "    N = np.count_nonzero(ranks)\n",
    "    A.shape = (63978,1)\n",
    "    B.shape = (150,1)\n",
    "    return np.sqrt(np.sum(vectorizedNonZeroSub(ranks, U.dot(V.T) + A + B.T + g) ** 2) / N)"
   ]
  },
  {
   "cell_type": "code",
   "execution_count": 88,
   "metadata": {
    "collapsed": false
   },
   "outputs": [
    {
     "data": {
      "text/plain": [
       "0.96700845685836978"
      ]
     },
     "execution_count": 88,
     "metadata": {},
     "output_type": "execute_result"
    }
   ],
   "source": [
    "RMSE2(R, *res)"
   ]
  },
  {
   "cell_type": "code",
   "execution_count": 91,
   "metadata": {
    "collapsed": false
   },
   "outputs": [
    {
     "data": {
      "text/plain": [
       "1.0617056375912579"
      ]
     },
     "execution_count": 91,
     "metadata": {},
     "output_type": "execute_result"
    }
   ],
   "source": [
    "RMSE2(RTest, *res)"
   ]
  },
  {
   "cell_type": "code",
   "execution_count": 92,
   "metadata": {
    "collapsed": false
   },
   "outputs": [],
   "source": [
    "U, V, A, B, g = res"
   ]
  },
  {
   "cell_type": "code",
   "execution_count": 93,
   "metadata": {
    "collapsed": false
   },
   "outputs": [
    {
     "data": {
      "text/plain": [
       "array([ 3.32293717])"
      ]
     },
     "execution_count": 93,
     "metadata": {},
     "output_type": "execute_result"
    }
   ],
   "source": [
    "g"
   ]
  },
  {
   "cell_type": "code",
   "execution_count": 95,
   "metadata": {
    "collapsed": false
   },
   "outputs": [
    {
     "data": {
      "text/plain": [
       "[(43, array([-1.1853655])),\n",
       " (140, array([-1.07480545])),\n",
       " (123, array([-1.02470262])),\n",
       " (74, array([-0.90325422])),\n",
       " (15, array([-0.85890571])),\n",
       " (73, array([-0.84389152])),\n",
       " (57, array([-0.82579844])),\n",
       " (56, array([-0.70571756])),\n",
       " (100, array([-0.62642493])),\n",
       " (4, array([-0.57625035])),\n",
       " (23, array([-0.54043951])),\n",
       " (19, array([-0.49597958])),\n",
       " (6, array([-0.48233627])),\n",
       " (135, array([-0.4380327])),\n",
       " (12, array([-0.43660089])),\n",
       " (66, array([-0.43340397])),\n",
       " (7, array([-0.4093237])),\n",
       " (102, array([-0.39951215])),\n",
       " (32, array([-0.39774513])),\n",
       " (36, array([-0.39041573])),\n",
       " (50, array([-0.3888212])),\n",
       " (122, array([-0.32849726])),\n",
       " (16, array([-0.3282077])),\n",
       " (17, array([-0.28395518])),\n",
       " (63, array([-0.27810327])),\n",
       " (14, array([-0.24521994])),\n",
       " (76, array([-0.23966555])),\n",
       " (94, array([-0.23012247])),\n",
       " (22, array([-0.22489168])),\n",
       " (40, array([-0.22118206])),\n",
       " (45, array([-0.21598571])),\n",
       " (59, array([-0.213346])),\n",
       " (42, array([-0.20879787])),\n",
       " (84, array([-0.20806483])),\n",
       " (127, array([-0.20536978])),\n",
       " (51, array([-0.2039273])),\n",
       " (78, array([-0.2019109])),\n",
       " (145, array([-0.1986582])),\n",
       " (139, array([-0.17058453])),\n",
       " (44, array([-0.16579395])),\n",
       " (24, array([-0.1650009])),\n",
       " (58, array([-0.15281765])),\n",
       " (114, array([-0.14644595])),\n",
       " (95, array([-0.1379101])),\n",
       " (99, array([-0.13398485])),\n",
       " (98, array([-0.10508092])),\n",
       " (85, array([-0.10441086])),\n",
       " (27, array([-0.10066866])),\n",
       " (115, array([-0.10016357])),\n",
       " (29, array([-0.09416232])),\n",
       " (33, array([-0.09234635])),\n",
       " (39, array([-0.07874427])),\n",
       " (69, array([-0.07291692])),\n",
       " (136, array([-0.0631027])),\n",
       " (18, array([-0.05739319])),\n",
       " (21, array([-0.0562846])),\n",
       " (89, array([-0.04473601])),\n",
       " (80, array([-0.0370938])),\n",
       " (130, array([-0.02942577])),\n",
       " (64, array([-0.01499601])),\n",
       " (54, array([-0.01058])),\n",
       " (144, array([-0.00727027])),\n",
       " (141, array([-0.00619724])),\n",
       " (10, array([-0.00016881])),\n",
       " (13, array([-0.00014693])),\n",
       " (11, array([ -8.06203792e-05])),\n",
       " (9, array([ -5.44479889e-05])),\n",
       " (0, array([ -2.61595396e-05])),\n",
       " (1, array([ -1.86167934e-05])),\n",
       " (3, array([ -2.38111641e-06])),\n",
       " (5, array([  8.05803198e-06])),\n",
       " (2, array([  1.81634613e-05])),\n",
       " (8, array([  9.01762219e-05])),\n",
       " (97, array([ 0.00724791])),\n",
       " (25, array([ 0.01171444])),\n",
       " (91, array([ 0.01612956])),\n",
       " (60, array([ 0.01848243])),\n",
       " (82, array([ 0.01881186])),\n",
       " (38, array([ 0.0346443])),\n",
       " (119, array([ 0.04311242])),\n",
       " (90, array([ 0.05402044])),\n",
       " (101, array([ 0.06371973])),\n",
       " (112, array([ 0.06607274])),\n",
       " (81, array([ 0.07137002])),\n",
       " (87, array([ 0.07343418])),\n",
       " (93, array([ 0.08299228])),\n",
       " (55, array([ 0.08326617])),\n",
       " (108, array([ 0.08513267])),\n",
       " (92, array([ 0.1083226])),\n",
       " (146, array([ 0.12275411])),\n",
       " (134, array([ 0.12913511])),\n",
       " (129, array([ 0.13472791])),\n",
       " (47, array([ 0.13578668])),\n",
       " (30, array([ 0.15097533])),\n",
       " (28, array([ 0.15853894])),\n",
       " (70, array([ 0.1710224])),\n",
       " (53, array([ 0.17532314])),\n",
       " (142, array([ 0.18030297])),\n",
       " (143, array([ 0.18058672])),\n",
       " (138, array([ 0.18748453])),\n",
       " (62, array([ 0.1889961])),\n",
       " (75, array([ 0.18986144])),\n",
       " (41, array([ 0.1911593])),\n",
       " (96, array([ 0.19282057])),\n",
       " (83, array([ 0.2023742])),\n",
       " (106, array([ 0.20320185])),\n",
       " (109, array([ 0.20971295])),\n",
       " (128, array([ 0.2217827])),\n",
       " (124, array([ 0.23020568])),\n",
       " (72, array([ 0.24550487])),\n",
       " (132, array([ 0.27442162])),\n",
       " (79, array([ 0.28885772])),\n",
       " (121, array([ 0.30049366])),\n",
       " (148, array([ 0.30873746])),\n",
       " (49, array([ 0.30925515])),\n",
       " (68, array([ 0.30979063])),\n",
       " (65, array([ 0.31119616])),\n",
       " (107, array([ 0.31301191])),\n",
       " (37, array([ 0.31614535])),\n",
       " (46, array([ 0.32434526])),\n",
       " (26, array([ 0.35021214])),\n",
       " (133, array([ 0.35662383])),\n",
       " (126, array([ 0.3592974])),\n",
       " (31, array([ 0.37086235])),\n",
       " (105, array([ 0.3865244])),\n",
       " (88, array([ 0.41815858])),\n",
       " (117, array([ 0.42380135])),\n",
       " (147, array([ 0.42533201])),\n",
       " (61, array([ 0.43176257])),\n",
       " (120, array([ 0.44849526])),\n",
       " (111, array([ 0.46084612])),\n",
       " (110, array([ 0.47185084])),\n",
       " (116, array([ 0.47513445])),\n",
       " (104, array([ 0.49844308])),\n",
       " (86, array([ 0.50510901])),\n",
       " (149, array([ 0.50545028])),\n",
       " (118, array([ 0.50912548])),\n",
       " (77, array([ 0.51371043])),\n",
       " (71, array([ 0.52316966])),\n",
       " (52, array([ 0.55252239])),\n",
       " (34, array([ 0.56433352])),\n",
       " (137, array([ 0.57609035])),\n",
       " (131, array([ 0.57984762])),\n",
       " (20, array([ 0.58537591])),\n",
       " (103, array([ 0.61775571])),\n",
       " (67, array([ 0.64360235])),\n",
       " (125, array([ 0.65123413])),\n",
       " (48, array([ 0.65127363])),\n",
       " (35, array([ 0.66615427])),\n",
       " (113, array([ 0.72703972]))]"
      ]
     },
     "execution_count": 95,
     "metadata": {},
     "output_type": "execute_result"
    }
   ],
   "source": [
    "sorted(enumerate(B), key=lambda x: x[1])"
   ]
  },
  {
   "cell_type": "code",
   "execution_count": null,
   "metadata": {
    "collapsed": true
   },
   "outputs": [],
   "source": []
  }
 ],
 "metadata": {
  "kernelspec": {
   "display_name": "Python 2",
   "language": "python",
   "name": "python2"
  },
  "language_info": {
   "codemirror_mode": {
    "name": "ipython",
    "version": 2
   },
   "file_extension": ".py",
   "mimetype": "text/x-python",
   "name": "python",
   "nbconvert_exporter": "python",
   "pygments_lexer": "ipython2",
   "version": "2.7.10"
  }
 },
 "nbformat": 4,
 "nbformat_minor": 0
}
